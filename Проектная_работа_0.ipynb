{
  "nbformat": 4,
  "nbformat_minor": 0,
  "metadata": {
    "colab": {
      "provenance": []
    },
    "kernelspec": {
      "name": "python3",
      "display_name": "Python 3"
    },
    "language_info": {
      "name": "python"
    }
  },
  "cells": [
    {
      "cell_type": "code",
      "source": [
        "# Импорт необходимых библиотек\n",
        "import pandas as pd\n",
        "import sqlite3"
      ],
      "metadata": {
        "id": "hAoSxEtn0QIo"
      },
      "execution_count": null,
      "outputs": []
    },
    {
      "cell_type": "code",
      "execution_count": null,
      "metadata": {
        "id": "g8AqrUWDa25D"
      },
      "outputs": [],
      "source": [
        "# Создадим базу данных с которой будем работать\n",
        "\n",
        "conn = sqlite3.connect('sqlite3.db')"
      ]
    },
    {
      "cell_type": "code",
      "source": [
        "# Напишите функцию которая скачивает lданные с гитхаба\n",
        "# Функция принимает на вход дату\n",
        "# Функция должна вернуть список словарей или датафрейм, можно(лучше) использовать можно использоват pandas.read_csv()\n",
        "\n",
        "# С помощью этой функции вы считаете данные по 2 ссылкам\n",
        "# ссылка на гитхаб с курсами валют - https://github.com/datanlnja/airflow_course/tree/main/excangerate/2021-01-01.csv\n",
        "# ссылка на гитхаб с данными о продажах - https://github.com/datanlnja/airflow_course/tree/main/data/2021-01-01.csv\n",
        "\n",
        "def extract_data(url, date):\n",
        "    # Собираем полный путь к файлу на GitHub\n",
        "    full_url = f\"{url}/{date}.csv\"\n",
        "\n",
        "    # Используем pandas для чтения CSV-файла\n",
        "    try:\n",
        "        df = pd.read_csv(full_url)\n",
        "        return df\n",
        "    except Exception as e:\n",
        "        print(f\"Ошибка при чтении данных с {full_url}: {e}\")\n",
        "        return None"
      ],
      "metadata": {
        "id": "WN5AxNjudXrP"
      },
      "execution_count": null,
      "outputs": []
    },
    {
      "cell_type": "code",
      "source": [
        "# Напишите функцию которая принимает на вход список пандас датафрейм\n",
        "# и загружает в табличку в sqlite, можно использоват pandas.to_sql()\n",
        "\n",
        "def insert_to_db(data, table_name, conn):\n",
        "    try:\n",
        "        # Используем цикл для вставки каждого датафрейма в базу данных\n",
        "        for df in data:\n",
        "            df.to_sql(table_name, conn, index=False, if_exists='append')\n",
        "\n",
        "        print(f\"Данные успешно загружены в таблицу {table_name}\")\n",
        "    except Exception as e:\n",
        "        print(f\"Ошибка при вставке данных: {e}\")\n"
      ],
      "metadata": {
        "id": "3Nr4KoeUdcKb"
      },
      "execution_count": null,
      "outputs": []
    },
    {
      "cell_type": "code",
      "source": [
        "# Напишите функцию которая обюъединит данные по ключу или паре ключей\n",
        "# На выходе возвращает данные, рекомендую использовать pandas.DataFrame\n",
        "\n",
        "def merge_data(data1, data2, key):\n",
        "    try:\n",
        "        merged_data = pd.merge(data1, data2, on=key)\n",
        "        return merged_data\n",
        "    except Exception as e:\n",
        "        print(f\"Ошибка при объединении данных: {e}\")\n",
        "        return None"
      ],
      "metadata": {
        "id": "bQwysQOTfL6x"
      },
      "execution_count": null,
      "outputs": []
    },
    {
      "cell_type": "code",
      "source": [
        "# Запустите ваш код в функции main\n",
        "\n",
        "# Напишите генерацию дат, так чтобы у вас получился список\n",
        "# 2021-01-02, 2021-01-03 ... etc\n",
        "# Нужны даты с 2021-01-01 по 2021-01-04\n",
        "\n",
        "dates_list = ['2021-01-01', '2021-01-02', '2021-01-03', '2021-01-04']\n",
        "\n",
        "def main(date, conn):\n",
        "    # Выгружаем данные по валютам и из источника\n",
        "    print()\n",
        "    currency = extract_data('https://raw.githubusercontent.com/datanlnja/airflow_course/main/excangerate', date)\n",
        "    data = extract_data('https://raw.githubusercontent.com/datanlnja/airflow_course/main/data', date)\n",
        "\n",
        "    # Объединяем данные в 1 таблицу\n",
        "    mg_data = merge_data(currency, data, key='date')\n",
        "\n",
        "    # Вставляем данные в БД в таблицу data\n",
        "    insert_to_db([mg_data], 'data', conn)\n",
        "\n",
        "# Пройдемся по списку дат и выполним скрипт\n",
        "for date in dates_list:\n",
        "    main(date, conn)"
      ],
      "metadata": {
        "id": "EQxB_D47gl7e",
        "colab": {
          "base_uri": "https://localhost:8080/"
        },
        "outputId": "606e678b-9a4f-43c7-def0-1810d66c2b5b"
      },
      "execution_count": null,
      "outputs": [
        {
          "output_type": "stream",
          "name": "stdout",
          "text": [
            "\n",
            "Данные успешно загружены в таблицу data\n",
            "\n",
            "Данные успешно загружены в таблицу data\n",
            "\n",
            "Данные успешно загружены в таблицу data\n",
            "\n",
            "Данные успешно загружены в таблицу data\n"
          ]
        }
      ]
    },
    {
      "cell_type": "code",
      "source": [
        "# чтобы првоерить решение можете обратиться к вашей базе данных таким образом\n",
        "\n",
        "import sqlite3\n",
        "\n",
        "# Создаем подключение к базе данных\n",
        "conn = sqlite3.connect('sqlite3.db')\n",
        "\n",
        "# Создаем курсор для выполнения SQL-запросов\n",
        "cursor = conn.cursor()\n",
        "\n",
        "# Выполняем запрос к таблице\n",
        "cursor.execute(\"SELECT * FROM data\")\n",
        "\n",
        "# Извлекаем все строки из результата запроса\n",
        "rows = cursor.fetchall()\n",
        "\n",
        "# Выводим результаты\n",
        "for row in rows:\n",
        "    print(row)\n",
        "\n",
        "# Закрываем соединение\n",
        "conn.close()"
      ],
      "metadata": {
        "id": "oKOYD6FjsRGt",
        "colab": {
          "base_uri": "https://localhost:8080/"
        },
        "outputId": "1b1ec91f-d81e-4c1c-80bf-da177f7de7ed"
      },
      "execution_count": null,
      "outputs": [
        {
          "output_type": "stream",
          "name": "stdout",
          "text": [
            "('2021-01-01', 'eur', 'usd', 1.21, 'EUR', 38)\n",
            "('2021-01-01', 'eur', 'usd', 1.21, 'EUR', 65)\n",
            "('2021-01-01', 'eur', 'usd', 1.21, 'EUR', 74)\n",
            "('2021-01-01', 'eur', 'usd', 1.21, 'EUR', 42)\n",
            "('2021-01-01', 'eur', 'usd', 1.21, 'EUR', 23)\n",
            "('2021-01-01', 'eur', 'usd', 1.21, 'EUR', 48)\n",
            "('2021-01-01', 'eur', 'usd', 1.21, 'EUR', 86)\n",
            "('2021-01-01', 'eur', 'usd', 1.21, 'EUR', 74)\n",
            "('2021-01-01', 'eur', 'usd', 1.21, 'EUR', 24)\n",
            "('2021-01-02', 'eur', 'usd', 1.22, 'EUR', 27)\n",
            "('2021-01-02', 'eur', 'usd', 1.22, 'EUR', 71)\n",
            "('2021-01-02', 'eur', 'usd', 1.22, 'EUR', 39)\n",
            "('2021-01-02', 'eur', 'usd', 1.22, 'EUR', 94)\n",
            "('2021-01-02', 'eur', 'usd', 1.22, 'EUR', 45)\n",
            "('2021-01-02', 'eur', 'usd', 1.22, 'EUR', 3)\n",
            "('2021-01-02', 'eur', 'usd', 1.22, 'EUR', 49)\n",
            "('2021-01-02', 'eur', 'usd', 1.22, 'EUR', 96)\n",
            "('2021-01-02', 'eur', 'usd', 1.22, 'EUR', 36)\n",
            "('2021-01-03', 'eur', 'usd', 1.22, 'EUR', 100)\n",
            "('2021-01-03', 'eur', 'usd', 1.22, 'EUR', 93)\n",
            "('2021-01-03', 'eur', 'usd', 1.22, 'EUR', 56)\n",
            "('2021-01-03', 'eur', 'usd', 1.22, 'EUR', 40)\n",
            "('2021-01-03', 'eur', 'usd', 1.22, 'EUR', 23)\n",
            "('2021-01-03', 'eur', 'usd', 1.22, 'EUR', 2)\n",
            "('2021-01-03', 'eur', 'usd', 1.22, 'EUR', 23)\n",
            "('2021-01-03', 'eur', 'usd', 1.22, 'EUR', 35)\n",
            "('2021-01-03', 'eur', 'usd', 1.22, 'EUR', 41)\n",
            "('2021-01-04', 'eur', 'usd', 1.22, 'EUR', 20)\n",
            "('2021-01-04', 'eur', 'usd', 1.22, 'EUR', 90)\n",
            "('2021-01-04', 'eur', 'usd', 1.22, 'EUR', 38)\n",
            "('2021-01-04', 'eur', 'usd', 1.22, 'EUR', 88)\n",
            "('2021-01-04', 'eur', 'usd', 1.22, 'EUR', 57)\n",
            "('2021-01-04', 'eur', 'usd', 1.22, 'EUR', 39)\n",
            "('2021-01-04', 'eur', 'usd', 1.22, 'EUR', 51)\n",
            "('2021-01-04', 'eur', 'usd', 1.22, 'EUR', 33)\n",
            "('2021-01-04', 'eur', 'usd', 1.22, 'EUR', 68)\n",
            "('2021-01-01', 'eur', 'usd', 1.21, 'EUR', 38)\n",
            "('2021-01-01', 'eur', 'usd', 1.21, 'EUR', 65)\n",
            "('2021-01-01', 'eur', 'usd', 1.21, 'EUR', 74)\n",
            "('2021-01-01', 'eur', 'usd', 1.21, 'EUR', 42)\n",
            "('2021-01-01', 'eur', 'usd', 1.21, 'EUR', 23)\n",
            "('2021-01-01', 'eur', 'usd', 1.21, 'EUR', 48)\n",
            "('2021-01-01', 'eur', 'usd', 1.21, 'EUR', 86)\n",
            "('2021-01-01', 'eur', 'usd', 1.21, 'EUR', 74)\n",
            "('2021-01-01', 'eur', 'usd', 1.21, 'EUR', 24)\n",
            "('2021-01-02', 'eur', 'usd', 1.22, 'EUR', 27)\n",
            "('2021-01-02', 'eur', 'usd', 1.22, 'EUR', 71)\n",
            "('2021-01-02', 'eur', 'usd', 1.22, 'EUR', 39)\n",
            "('2021-01-02', 'eur', 'usd', 1.22, 'EUR', 94)\n",
            "('2021-01-02', 'eur', 'usd', 1.22, 'EUR', 45)\n",
            "('2021-01-02', 'eur', 'usd', 1.22, 'EUR', 3)\n",
            "('2021-01-02', 'eur', 'usd', 1.22, 'EUR', 49)\n",
            "('2021-01-02', 'eur', 'usd', 1.22, 'EUR', 96)\n",
            "('2021-01-02', 'eur', 'usd', 1.22, 'EUR', 36)\n",
            "('2021-01-03', 'eur', 'usd', 1.22, 'EUR', 100)\n",
            "('2021-01-03', 'eur', 'usd', 1.22, 'EUR', 93)\n",
            "('2021-01-03', 'eur', 'usd', 1.22, 'EUR', 56)\n",
            "('2021-01-03', 'eur', 'usd', 1.22, 'EUR', 40)\n",
            "('2021-01-03', 'eur', 'usd', 1.22, 'EUR', 23)\n",
            "('2021-01-03', 'eur', 'usd', 1.22, 'EUR', 2)\n",
            "('2021-01-03', 'eur', 'usd', 1.22, 'EUR', 23)\n",
            "('2021-01-03', 'eur', 'usd', 1.22, 'EUR', 35)\n",
            "('2021-01-03', 'eur', 'usd', 1.22, 'EUR', 41)\n",
            "('2021-01-04', 'eur', 'usd', 1.22, 'EUR', 20)\n",
            "('2021-01-04', 'eur', 'usd', 1.22, 'EUR', 90)\n",
            "('2021-01-04', 'eur', 'usd', 1.22, 'EUR', 38)\n",
            "('2021-01-04', 'eur', 'usd', 1.22, 'EUR', 88)\n",
            "('2021-01-04', 'eur', 'usd', 1.22, 'EUR', 57)\n",
            "('2021-01-04', 'eur', 'usd', 1.22, 'EUR', 39)\n",
            "('2021-01-04', 'eur', 'usd', 1.22, 'EUR', 51)\n",
            "('2021-01-04', 'eur', 'usd', 1.22, 'EUR', 33)\n",
            "('2021-01-04', 'eur', 'usd', 1.22, 'EUR', 68)\n"
          ]
        }
      ]
    },
    {
      "cell_type": "code",
      "source": [],
      "metadata": {
        "id": "DbTAVvykgRd3"
      },
      "execution_count": null,
      "outputs": []
    }
  ]
}